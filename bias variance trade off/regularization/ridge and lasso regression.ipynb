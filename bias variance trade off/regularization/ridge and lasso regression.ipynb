{
 "cells": [
  {
   "cell_type": "code",
   "execution_count": 1,
   "metadata": {},
   "outputs": [],
   "source": [
    "import numpy as np \n",
    "import pandas as pd \n",
    "import matplotlib.pyplot as plt \n",
    "from sklearn.model_selection import train_test_split"
   ]
  },
  {
   "cell_type": "code",
   "execution_count": 2,
   "metadata": {},
   "outputs": [],
   "source": [
    "np.random.seed(42)\n",
    "\n",
    "# Generate data with multicollinearity\n",
    "n_samples = 200\n",
    "X1 = np.random.rand(n_samples) * 100  # Feature 1\n",
    "X2 = X1 + (np.random.rand(n_samples) * 10)  # Feature 2 (highly correlated with Feature 1)\n",
    "X3 = np.random.rand(n_samples) * 50  # Feature 3 (less correlated)\n",
    "noise = np.random.randn(n_samples) * 5  # Noise term\n",
    "\n",
    "# Target variable with some weights\n",
    "Y = 3 * X1 + 2 * X2 + 0.5 * X3 + noise"
   ]
  },
  {
   "cell_type": "code",
   "execution_count": 3,
   "metadata": {},
   "outputs": [],
   "source": [
    "# Create a DataFrame\n",
    "data = pd.DataFrame({\n",
    "    'Feature1': X1,\n",
    "    'Feature2': X2,\n",
    "    'Feature3': X3,\n",
    "    'Target': Y\n",
    "})"
   ]
  },
  {
   "cell_type": "code",
   "execution_count": 6,
   "metadata": {},
   "outputs": [
    {
     "data": {
      "text/html": [
       "<div>\n",
       "<style scoped>\n",
       "    .dataframe tbody tr th:only-of-type {\n",
       "        vertical-align: middle;\n",
       "    }\n",
       "\n",
       "    .dataframe tbody tr th {\n",
       "        vertical-align: top;\n",
       "    }\n",
       "\n",
       "    .dataframe thead th {\n",
       "        text-align: right;\n",
       "    }\n",
       "</style>\n",
       "<table border=\"1\" class=\"dataframe\">\n",
       "  <thead>\n",
       "    <tr style=\"text-align: right;\">\n",
       "      <th></th>\n",
       "      <th>Feature1</th>\n",
       "      <th>Feature2</th>\n",
       "      <th>Feature3</th>\n",
       "      <th>Target</th>\n",
       "    </tr>\n",
       "  </thead>\n",
       "  <tbody>\n",
       "    <tr>\n",
       "      <th>0</th>\n",
       "      <td>37.454012</td>\n",
       "      <td>43.874328</td>\n",
       "      <td>5.156193</td>\n",
       "      <td>200.037501</td>\n",
       "    </tr>\n",
       "    <tr>\n",
       "      <th>1</th>\n",
       "      <td>95.071431</td>\n",
       "      <td>95.912830</td>\n",
       "      <td>45.127645</td>\n",
       "      <td>495.639411</td>\n",
       "    </tr>\n",
       "    <tr>\n",
       "      <th>2</th>\n",
       "      <td>73.199394</td>\n",
       "      <td>74.815681</td>\n",
       "      <td>25.262619</td>\n",
       "      <td>381.325703</td>\n",
       "    </tr>\n",
       "    <tr>\n",
       "      <th>3</th>\n",
       "      <td>59.865848</td>\n",
       "      <td>68.851390</td>\n",
       "      <td>41.322873</td>\n",
       "      <td>332.785551</td>\n",
       "    </tr>\n",
       "    <tr>\n",
       "      <th>4</th>\n",
       "      <td>15.601864</td>\n",
       "      <td>21.666155</td>\n",
       "      <td>16.002480</td>\n",
       "      <td>95.370895</td>\n",
       "    </tr>\n",
       "    <tr>\n",
       "      <th>...</th>\n",
       "      <td>...</td>\n",
       "      <td>...</td>\n",
       "      <td>...</td>\n",
       "      <td>...</td>\n",
       "    </tr>\n",
       "    <tr>\n",
       "      <th>195</th>\n",
       "      <td>34.920957</td>\n",
       "      <td>44.228531</td>\n",
       "      <td>23.698082</td>\n",
       "      <td>208.550007</td>\n",
       "    </tr>\n",
       "    <tr>\n",
       "      <th>196</th>\n",
       "      <td>72.595568</td>\n",
       "      <td>81.179695</td>\n",
       "      <td>33.377887</td>\n",
       "      <td>406.079818</td>\n",
       "    </tr>\n",
       "    <tr>\n",
       "      <th>197</th>\n",
       "      <td>89.711026</td>\n",
       "      <td>94.000966</td>\n",
       "      <td>8.615994</td>\n",
       "      <td>467.075832</td>\n",
       "    </tr>\n",
       "    <tr>\n",
       "      <th>198</th>\n",
       "      <td>88.708642</td>\n",
       "      <td>96.217353</td>\n",
       "      <td>9.614451</td>\n",
       "      <td>462.023416</td>\n",
       "    </tr>\n",
       "    <tr>\n",
       "      <th>199</th>\n",
       "      <td>77.987555</td>\n",
       "      <td>85.532983</td>\n",
       "      <td>2.043431</td>\n",
       "      <td>400.517716</td>\n",
       "    </tr>\n",
       "  </tbody>\n",
       "</table>\n",
       "<p>200 rows × 4 columns</p>\n",
       "</div>"
      ],
      "text/plain": [
       "      Feature1   Feature2   Feature3      Target\n",
       "0    37.454012  43.874328   5.156193  200.037501\n",
       "1    95.071431  95.912830  45.127645  495.639411\n",
       "2    73.199394  74.815681  25.262619  381.325703\n",
       "3    59.865848  68.851390  41.322873  332.785551\n",
       "4    15.601864  21.666155  16.002480   95.370895\n",
       "..         ...        ...        ...         ...\n",
       "195  34.920957  44.228531  23.698082  208.550007\n",
       "196  72.595568  81.179695  33.377887  406.079818\n",
       "197  89.711026  94.000966   8.615994  467.075832\n",
       "198  88.708642  96.217353   9.614451  462.023416\n",
       "199  77.987555  85.532983   2.043431  400.517716\n",
       "\n",
       "[200 rows x 4 columns]"
      ]
     },
     "execution_count": 6,
     "metadata": {},
     "output_type": "execute_result"
    }
   ],
   "source": [
    "data"
   ]
  },
  {
   "cell_type": "code",
   "execution_count": 9,
   "metadata": {},
   "outputs": [],
   "source": [
    "X = data.drop(columns=['Target'])\n",
    "Y = data['Target']"
   ]
  },
  {
   "cell_type": "code",
   "execution_count": 10,
   "metadata": {},
   "outputs": [],
   "source": [
    "X_train,X_test,Y_train,Y_test= train_test_split(X,Y,test_size=0.2,random_state=42)"
   ]
  },
  {
   "cell_type": "markdown",
   "metadata": {},
   "source": [
    "# Ridge regression"
   ]
  },
  {
   "cell_type": "code",
   "execution_count": 13,
   "metadata": {},
   "outputs": [
    {
     "name": "stdout",
     "output_type": "stream",
     "text": [
      "Best alpha: 50\n",
      "Test set score: 0.9992117919416328\n"
     ]
    }
   ],
   "source": [
    "from sklearn.linear_model import Ridge\n",
    "# to find value of alpha use GridSearchCV\n",
    "from sklearn.model_selection import GridSearchCV\n",
    "\n",
    "alpha_values =[0.01,0.1,1.0,10,20,30,50]\n",
    "\n",
    "param_grid ={'alpha':alpha_values}\n",
    "ridge = Ridge()\n",
    "grid_search = GridSearchCV(ridge, param_grid, cv=5, scoring='neg_mean_squared_error')\n",
    "grid_search.fit(X_train, Y_train)\n",
    "\n",
    "print(\"Best alpha:\", grid_search.best_params_['alpha'])\n",
    "\n",
    "# Evaluate on test set\n",
    "best_model = grid_search.best_estimator_\n",
    "test_score = best_model.score(X_test, Y_test)  # Use R² or other metrics\n",
    "print(\"Test set score:\", test_score)"
   ]
  },
  {
   "cell_type": "code",
   "execution_count": 14,
   "metadata": {},
   "outputs": [
    {
     "data": {
      "image/png": "[encoded data removed]",
      "text/plain": [
       "<Figure size 1000x600 with 1 Axes>"
      ]
     },
     "metadata": {},
     "output_type": "display_data"
    }
   ],
   "source": [
    "results = grid_search.cv_results_\n",
    "plt.figure(figsize=(10, 6))\n",
    "plt.plot(alpha_values, -results['mean_test_score'], marker='o', label='Mean Test MSE')\n",
    "plt.xlabel('Alpha')\n",
    "plt.ylabel('Negative Mean Squared Error')\n",
    "plt.title('Effect of Alpha on Model Performance')\n",
    "plt.xscale('log')\n",
    "plt.legend()\n",
    "plt.grid()\n",
    "plt.show()"
   ]
  },
  {
   "cell_type": "code",
   "execution_count": null,
   "metadata": {},
   "outputs": [],
   "source": []
  }
 ],
 "metadata": {
  "kernelspec": {
   "display_name": "base",
   "language": "python",
   "name": "python3"
  },
  "language_info": {
   "codemirror_mode": {
    "name": "ipython",
    "version": 3
   },
   "file_extension": ".py",
   "mimetype": "text/x-python",
   "name": "python",
   "nbconvert_exporter": "python",
   "pygments_lexer": "ipython3",
   "version": "3.11.7"
  }
 },
 "nbformat": 4,
 "nbformat_minor": 2
}
