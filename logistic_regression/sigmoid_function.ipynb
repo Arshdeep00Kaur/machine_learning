{
 "cells": [
  {
   "cell_type": "markdown",
   "metadata": {},
   "source": [
    "# sigmoid function\n",
    "- to improve functions of perceptron trick use sigmoid function\n",
    "-  sigma(z) = 1/(1+e^(-z))\n",
    "\n",
    "- where -infinity <z < infinity\n",
    "-       0<y<1"
   ]
  },
  {
   "cell_type": "markdown",
   "metadata": {},
   "source": []
  }
 ],
 "metadata": {
  "language_info": {
   "name": "python"
  }
 },
 "nbformat": 4,
 "nbformat_minor": 2
}
